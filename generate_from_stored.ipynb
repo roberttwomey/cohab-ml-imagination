{
 "cells": [
  {
   "cell_type": "markdown",
   "metadata": {
    "id": "nwTP4MYk0bYn"
   },
   "source": [
    "## Generate Interpolations from Stored Vectors\n",
    "\n",
    "Generating interpolation videos from POM2021 performance. \n",
    "\n",
    "Based on [j.mp/wanderclip](https://j.mp/wanderclip) by Eyal Gruss [@eyaler](https://twitter.com/eyaler) [eyalgruss.com](https://eyalgruss.com)\n",
    "\n",
    "Modified to run on HCC OOD/nautilus.optiputer.net/z8 by robert.twomey@gmail.com"
   ]
  },
  {
   "cell_type": "markdown",
   "metadata": {},
   "source": [
    "# 1. Setup and Imports"
   ]
  },
  {
   "cell_type": "markdown",
   "metadata": {},
   "source": [
    "Setup the timer in case we want it"
   ]
  },
  {
   "cell_type": "code",
   "execution_count": 1,
   "metadata": {},
   "outputs": [
    {
     "name": "stdout",
     "output_type": "stream",
     "text": [
      "Defaulting to user installation because normal site-packages is not writeable\n",
      "Requirement already satisfied: ipython-autotime in /home/twomeylab/rtwomey/.local/lib/python3.8/site-packages (0.3.1)\n",
      "Requirement already satisfied: ipython in /util/opt/anaconda/deployed-conda-envs/packages/jupyterlab/envs/jupyterlab-3.0.16/lib/python3.8/site-packages (from ipython-autotime) (7.30.1)\n",
      "Requirement already satisfied: pexpect>4.3 in /util/opt/anaconda/deployed-conda-envs/packages/jupyterlab/envs/jupyterlab-3.0.16/lib/python3.8/site-packages (from ipython->ipython-autotime) (4.8.0)\n",
      "Requirement already satisfied: traitlets>=4.2 in /util/opt/anaconda/deployed-conda-envs/packages/jupyterlab/envs/jupyterlab-3.0.16/lib/python3.8/site-packages (from ipython->ipython-autotime) (5.1.1)\n",
      "Requirement already satisfied: setuptools>=18.5 in /util/opt/anaconda/deployed-conda-envs/packages/jupyterlab/envs/jupyterlab-3.0.16/lib/python3.8/site-packages (from ipython->ipython-autotime) (59.4.0)\n",
      "Requirement already satisfied: backcall in /util/opt/anaconda/deployed-conda-envs/packages/jupyterlab/envs/jupyterlab-3.0.16/lib/python3.8/site-packages (from ipython->ipython-autotime) (0.2.0)\n",
      "Requirement already satisfied: pickleshare in /util/opt/anaconda/deployed-conda-envs/packages/jupyterlab/envs/jupyterlab-3.0.16/lib/python3.8/site-packages (from ipython->ipython-autotime) (0.7.5)\n",
      "Requirement already satisfied: pygments in /util/opt/anaconda/deployed-conda-envs/packages/jupyterlab/envs/jupyterlab-3.0.16/lib/python3.8/site-packages (from ipython->ipython-autotime) (2.10.0)\n",
      "Requirement already satisfied: matplotlib-inline in /util/opt/anaconda/deployed-conda-envs/packages/jupyterlab/envs/jupyterlab-3.0.16/lib/python3.8/site-packages (from ipython->ipython-autotime) (0.1.3)\n",
      "Requirement already satisfied: jedi>=0.16 in /util/opt/anaconda/deployed-conda-envs/packages/jupyterlab/envs/jupyterlab-3.0.16/lib/python3.8/site-packages (from ipython->ipython-autotime) (0.18.1)\n",
      "Requirement already satisfied: prompt-toolkit!=3.0.0,!=3.0.1,<3.1.0,>=2.0.0 in /util/opt/anaconda/deployed-conda-envs/packages/jupyterlab/envs/jupyterlab-3.0.16/lib/python3.8/site-packages (from ipython->ipython-autotime) (3.0.24)\n",
      "Requirement already satisfied: decorator in /util/opt/anaconda/deployed-conda-envs/packages/jupyterlab/envs/jupyterlab-3.0.16/lib/python3.8/site-packages (from ipython->ipython-autotime) (5.1.0)\n",
      "Requirement already satisfied: parso<0.9.0,>=0.8.0 in /util/opt/anaconda/deployed-conda-envs/packages/jupyterlab/envs/jupyterlab-3.0.16/lib/python3.8/site-packages (from jedi>=0.16->ipython->ipython-autotime) (0.8.3)\n",
      "Requirement already satisfied: ptyprocess>=0.5 in /util/opt/anaconda/deployed-conda-envs/packages/jupyterlab/envs/jupyterlab-3.0.16/lib/python3.8/site-packages (from pexpect>4.3->ipython->ipython-autotime) (0.7.0)\n",
      "Requirement already satisfied: wcwidth in /util/opt/anaconda/deployed-conda-envs/packages/jupyterlab/envs/jupyterlab-3.0.16/lib/python3.8/site-packages (from prompt-toolkit!=3.0.0,!=3.0.1,<3.1.0,>=2.0.0->ipython->ipython-autotime) (0.2.5)\n"
     ]
    }
   ],
   "source": [
    "!pip install ipython-autotime"
   ]
  },
  {
   "cell_type": "code",
   "execution_count": 2,
   "metadata": {},
   "outputs": [
    {
     "name": "stdout",
     "output_type": "stream",
     "text": [
      "time: 187 µs (started: 2021-12-21 12:17:49 -06:00)\n"
     ]
    }
   ],
   "source": [
    "%load_ext autotime"
   ]
  },
  {
   "cell_type": "code",
   "execution_count": 3,
   "metadata": {},
   "outputs": [
    {
     "name": "stdout",
     "output_type": "stream",
     "text": [
      "time: 635 ms (started: 2021-12-21 12:17:49 -06:00)\n"
     ]
    }
   ],
   "source": [
    "!module load ffmpeg"
   ]
  },
  {
   "cell_type": "markdown",
   "metadata": {},
   "source": [
    "Onetime setup (jupyter environment)\n",
    "(you may need to restart the kernel after this)"
   ]
  },
  {
   "cell_type": "code",
   "execution_count": 4,
   "metadata": {},
   "outputs": [
    {
     "name": "stdout",
     "output_type": "stream",
     "text": [
      "Defaulting to user installation because normal site-packages is not writeable\n",
      "Looking in links: https://download.pytorch.org/whl/torch_stable.html\n",
      "Requirement already satisfied: torch==1.7.1+cu101 in /home/twomeylab/rtwomey/.local/lib/python3.8/site-packages (1.7.1+cu101)\n",
      "Requirement already satisfied: torchvision==0.8.2+cu101 in /home/twomeylab/rtwomey/.local/lib/python3.8/site-packages (0.8.2+cu101)\n",
      "Requirement already satisfied: ftfy in /home/twomeylab/rtwomey/.local/lib/python3.8/site-packages (6.0.3)\n",
      "Requirement already satisfied: regex in /util/opt/anaconda/deployed-conda-envs/packages/jupyterlab/envs/jupyterlab-3.0.16/lib/python3.8/site-packages (2021.11.10)\n",
      "Requirement already satisfied: numpy in /util/opt/anaconda/deployed-conda-envs/packages/jupyterlab/envs/jupyterlab-3.0.16/lib/python3.8/site-packages (from torch==1.7.1+cu101) (1.21.4)\n",
      "Requirement already satisfied: typing-extensions in /util/opt/anaconda/deployed-conda-envs/packages/jupyterlab/envs/jupyterlab-3.0.16/lib/python3.8/site-packages (from torch==1.7.1+cu101) (4.0.1)\n",
      "Requirement already satisfied: pillow>=4.1.1 in /util/opt/anaconda/deployed-conda-envs/packages/jupyterlab/envs/jupyterlab-3.0.16/lib/python3.8/site-packages (from torchvision==0.8.2+cu101) (8.3.1)\n",
      "Requirement already satisfied: wcwidth in /util/opt/anaconda/deployed-conda-envs/packages/jupyterlab/envs/jupyterlab-3.0.16/lib/python3.8/site-packages (from ftfy) (0.2.5)\n",
      "Defaulting to user installation because normal site-packages is not writeable\n",
      "Requirement already satisfied: pytorch-pretrained-biggan in /home/twomeylab/rtwomey/.local/lib/python3.8/site-packages (0.1.1)\n",
      "Requirement already satisfied: torch>=0.4.1 in /home/twomeylab/rtwomey/.local/lib/python3.8/site-packages (from pytorch-pretrained-biggan) (1.7.1+cu101)\n",
      "Requirement already satisfied: requests in /util/opt/anaconda/deployed-conda-envs/packages/jupyterlab/envs/jupyterlab-3.0.16/lib/python3.8/site-packages (from pytorch-pretrained-biggan) (2.26.0)\n",
      "Requirement already satisfied: numpy in /util/opt/anaconda/deployed-conda-envs/packages/jupyterlab/envs/jupyterlab-3.0.16/lib/python3.8/site-packages (from pytorch-pretrained-biggan) (1.21.4)\n",
      "Requirement already satisfied: tqdm in /util/opt/anaconda/deployed-conda-envs/packages/jupyterlab/envs/jupyterlab-3.0.16/lib/python3.8/site-packages (from pytorch-pretrained-biggan) (4.62.3)\n",
      "Requirement already satisfied: boto3 in /home/twomeylab/rtwomey/.local/lib/python3.8/site-packages (from pytorch-pretrained-biggan) (1.18.57)\n",
      "Requirement already satisfied: typing-extensions in /util/opt/anaconda/deployed-conda-envs/packages/jupyterlab/envs/jupyterlab-3.0.16/lib/python3.8/site-packages (from torch>=0.4.1->pytorch-pretrained-biggan) (4.0.1)\n",
      "Requirement already satisfied: s3transfer<0.6.0,>=0.5.0 in /home/twomeylab/rtwomey/.local/lib/python3.8/site-packages (from boto3->pytorch-pretrained-biggan) (0.5.0)\n",
      "Requirement already satisfied: jmespath<1.0.0,>=0.7.1 in /home/twomeylab/rtwomey/.local/lib/python3.8/site-packages (from boto3->pytorch-pretrained-biggan) (0.10.0)\n",
      "Requirement already satisfied: botocore<1.22.0,>=1.21.57 in /home/twomeylab/rtwomey/.local/lib/python3.8/site-packages (from boto3->pytorch-pretrained-biggan) (1.21.57)\n",
      "Requirement already satisfied: charset-normalizer~=2.0.0 in /util/opt/anaconda/deployed-conda-envs/packages/jupyterlab/envs/jupyterlab-3.0.16/lib/python3.8/site-packages (from requests->pytorch-pretrained-biggan) (2.0.9)\n",
      "Requirement already satisfied: certifi>=2017.4.17 in /util/opt/anaconda/deployed-conda-envs/packages/jupyterlab/envs/jupyterlab-3.0.16/lib/python3.8/site-packages (from requests->pytorch-pretrained-biggan) (2021.10.8)\n",
      "Requirement already satisfied: idna<4,>=2.5 in /util/opt/anaconda/deployed-conda-envs/packages/jupyterlab/envs/jupyterlab-3.0.16/lib/python3.8/site-packages (from requests->pytorch-pretrained-biggan) (3.1)\n",
      "Requirement already satisfied: urllib3<1.27,>=1.21.1 in /util/opt/anaconda/deployed-conda-envs/packages/jupyterlab/envs/jupyterlab-3.0.16/lib/python3.8/site-packages (from requests->pytorch-pretrained-biggan) (1.26.7)\n",
      "Requirement already satisfied: python-dateutil<3.0.0,>=2.1 in /util/opt/anaconda/deployed-conda-envs/packages/jupyterlab/envs/jupyterlab-3.0.16/lib/python3.8/site-packages (from botocore<1.22.0,>=1.21.57->boto3->pytorch-pretrained-biggan) (2.8.2)\n",
      "Requirement already satisfied: six>=1.5 in /util/opt/anaconda/deployed-conda-envs/packages/jupyterlab/envs/jupyterlab-3.0.16/lib/python3.8/site-packages (from python-dateutil<3.0.0,>=2.1->botocore<1.22.0,>=1.21.57->boto3->pytorch-pretrained-biggan) (1.16.0)\n",
      "Defaulting to user installation because normal site-packages is not writeable\n",
      "Requirement already satisfied: nltk in /home/twomeylab/rtwomey/.local/lib/python3.8/site-packages (3.6.3)\n",
      "Requirement already satisfied: joblib in /home/twomeylab/rtwomey/.local/lib/python3.8/site-packages (from nltk) (1.1.0)\n",
      "Requirement already satisfied: tqdm in /util/opt/anaconda/deployed-conda-envs/packages/jupyterlab/envs/jupyterlab-3.0.16/lib/python3.8/site-packages (from nltk) (4.62.3)\n",
      "Requirement already satisfied: click in /util/opt/anaconda/deployed-conda-envs/packages/jupyterlab/envs/jupyterlab-3.0.16/lib/python3.8/site-packages (from nltk) (8.0.3)\n",
      "Requirement already satisfied: regex in /util/opt/anaconda/deployed-conda-envs/packages/jupyterlab/envs/jupyterlab-3.0.16/lib/python3.8/site-packages (from nltk) (2021.11.10)\n",
      "Defaulting to user installation because normal site-packages is not writeable\n",
      "Requirement already satisfied: cma in /home/twomeylab/rtwomey/.local/lib/python3.8/site-packages (3.1.0)\n",
      "time: 4.31 s (started: 2021-12-20 12:58:34 -06:00)\n"
     ]
    }
   ],
   "source": [
    "# # !pip install perlin-noise\n",
    "!pip install torch==1.7.1+cu101 torchvision==0.8.2+cu101 -f https://download.pytorch.org/whl/torch_stable.html ftfy regex\n",
    "!pip install pytorch-pretrained-biggan\n",
    "!pip install nltk\n",
    "!pip install cma"
   ]
  },
  {
   "cell_type": "markdown",
   "metadata": {},
   "source": [
    "Import necessary libraries"
   ]
  },
  {
   "cell_type": "code",
   "execution_count": 12,
   "metadata": {},
   "outputs": [
    {
     "name": "stderr",
     "output_type": "stream",
     "text": [
      "[nltk_data] Downloading package wordnet to\n",
      "[nltk_data]     /home/twomeylab/rtwomey/nltk_data...\n",
      "[nltk_data]   Package wordnet is already up-to-date!\n"
     ]
    },
    {
     "name": "stdout",
     "output_type": "stream",
     "text": [
      "loaded bigGAN\n",
      "time: 3.44 s (started: 2021-12-21 12:18:20 -06:00)\n"
     ]
    }
   ],
   "source": [
    "from IPython.display import HTML, clear_output\n",
    "from PIL import Image\n",
    "from IPython.display import Image as JupImage\n",
    "import numpy as np\n",
    "import nltk\n",
    "from scipy.stats import truncnorm\n",
    "\n",
    "# from biggan\n",
    "import torch\n",
    "from pytorch_pretrained_biggan import (BigGAN, one_hot_from_names, truncated_noise_sample,\n",
    "                                       save_as_images, convert_to_images) #, display_in_terminal)\n",
    "import logging\n",
    "logging.basicConfig(level=logging.WARNING)\n",
    "\n",
    "# do we need wordnet?\n",
    "nltk.download('wordnet')\n",
    "\n",
    "# load biggan\n",
    "model = BigGAN.from_pretrained('biggan-deep-512')\n",
    "print(\"loaded bigGAN\")"
   ]
  },
  {
   "cell_type": "markdown",
   "metadata": {},
   "source": [
    "More imports for interpolation"
   ]
  },
  {
   "cell_type": "code",
   "execution_count": 13,
   "metadata": {},
   "outputs": [
    {
     "name": "stdout",
     "output_type": "stream",
     "text": [
      "time: 505 µs (started: 2021-12-21 12:18:24 -06:00)\n"
     ]
    }
   ],
   "source": [
    "from numpy import asarray\n",
    "from numpy import vstack\n",
    "from numpy.random import randn\n",
    "from numpy.random import randint\n",
    "from numpy import arccos\n",
    "from numpy import clip\n",
    "from numpy import dot\n",
    "from numpy import sin\n",
    "from numpy import linspace\n",
    "from numpy.linalg import norm\n",
    "import os\n",
    "import glob"
   ]
  },
  {
   "cell_type": "markdown",
   "metadata": {},
   "source": [
    "Helper functions for interpolation"
   ]
  },
  {
   "cell_type": "code",
   "execution_count": 14,
   "metadata": {},
   "outputs": [
    {
     "name": "stdout",
     "output_type": "stream",
     "text": [
      "time: 693 µs (started: 2021-12-21 12:18:27 -06:00)\n"
     ]
    }
   ],
   "source": [
    "# from\n",
    "# https://discuss.pytorch.org/t/help-regarding-slerp-function-for-generative-model-sampling/32475/4\n",
    "\n",
    "# spherical linear interpolation (slerp)\n",
    "def slerp(val, low, high):\n",
    "    omega = arccos(clip(dot(low/norm(low), high/norm(high)), -1, 1))\n",
    "    so = sin(omega)\n",
    "    if so == 0:\n",
    "        # L'Hopital's rule/LERP\n",
    "        return (1.0-val) * low + val * high\n",
    "    return sin((1.0-val)*omega) / so * low + sin(val*omega) / so * high\n",
    " \n",
    "# uniform interpolation between two points in latent space\n",
    "def interpolate_points(p1, p2, n_steps=10):\n",
    "    # interpolate ratios between the points\n",
    "    ratios = np.linspace(0, 1, num=n_steps)\n",
    "    # linear interpolate vectors\n",
    "    vectors = list()\n",
    "    for ratio in ratios:\n",
    "        v = slerp(ratio, p1, p2)\n",
    "        vectors.append(v)\n",
    "    return np.asarray(vectors)"
   ]
  },
  {
   "cell_type": "markdown",
   "metadata": {},
   "source": [
    "File output settings"
   ]
  },
  {
   "cell_type": "code",
   "execution_count": 62,
   "metadata": {},
   "outputs": [
    {
     "name": "stdout",
     "output_type": "stream",
     "text": [
      "time: 962 µs (started: 2021-12-21 15:04:30 -06:00)\n"
     ]
    }
   ],
   "source": [
    "import os\n",
    "# file paths\n",
    "work = os.getcwd() # get the current path\n",
    "\n",
    "# No need to seed the interpolation for generation from stored vectors\n",
    "# np.random.RandomState(1)\n",
    "# np.random.seed(1)\n",
    "# torch.manual_seed(1)\n",
    "\n",
    "# one random variable\n",
    "truncation = 1.0\n",
    "\n",
    "# the file directories\n",
    "workbase = work\n",
    "\n",
    "# results of text to image translation\n",
    "resultspath = os.path.join(work, \"results/\")\n",
    "\n",
    "# intermediate frames working directory\n",
    "interpbase = os.path.join(work, \"interpolation/\")\n",
    "\n",
    "# video directory\n",
    "videopath = os.path.join(work, \"videos/\")\n",
    "\n",
    "# video and srt output files\n",
    "# filebase = '{0}'\n",
    "# moviefilename = filebase+'.mp4'\n",
    "# srtfilename = filebase+'.srt'\n",
    "\n",
    "# the interpolation\n",
    "num_steps = 90#300\n",
    "len_hold = 30\n",
    "\n",
    "# frame rate for the the movie\n",
    "fps = 30"
   ]
  },
  {
   "cell_type": "code",
   "execution_count": 63,
   "metadata": {},
   "outputs": [
    {
     "name": "stdout",
     "output_type": "stream",
     "text": [
      "time: 300 ms (started: 2021-12-21 15:04:31 -06:00)\n"
     ]
    }
   ],
   "source": [
    "!mkdir -p $interpbase\n",
    "!mkdir -p $videopath"
   ]
  },
  {
   "cell_type": "markdown",
   "metadata": {},
   "source": [
    "## 2. Generate Interpolation Between Two Images"
   ]
  },
  {
   "cell_type": "code",
   "execution_count": 64,
   "metadata": {},
   "outputs": [
    {
     "name": "stdout",
     "output_type": "stream",
     "text": [
      "time: 560 µs (started: 2021-12-21 15:05:18 -06:00)\n"
     ]
    }
   ],
   "source": [
    "def frames_to_TC (frames):\n",
    "    h = int(frames / 86400) \n",
    "    m = int(frames / (60*fps)) % 60 \n",
    "    s = int((frames % (60*fps))/fps) \n",
    "    f = float(frames % (60*fps) % fps)/float(fps)\n",
    "    return ( \"%02d:%02d:%02d,%04d\" % ( h, m, s, f))"
   ]
  },
  {
   "cell_type": "code",
   "execution_count": 65,
   "metadata": {},
   "outputs": [
    {
     "name": "stdout",
     "output_type": "stream",
     "text": [
      "time: 371 µs (started: 2021-12-21 15:05:18 -06:00)\n"
     ]
    }
   ],
   "source": [
    "def make_safe_filename(s):\n",
    "    def safe_char(c):\n",
    "        if c.isalnum():\n",
    "            return c\n",
    "        else:\n",
    "            return \"_\"\n",
    "    return \"\".join(safe_char(c) for c in s).rstrip(\"_\")"
   ]
  },
  {
   "cell_type": "code",
   "execution_count": 70,
   "metadata": {},
   "outputs": [
    {
     "name": "stdout",
     "output_type": "stream",
     "text": [
      "time: 3.15 ms (started: 2021-12-21 15:18:43 -06:00)\n"
     ]
    }
   ],
   "source": [
    "def generate_video_transition(class_filenames, prompts, interpbase):\n",
    "    \"\"\"includes the result with the class_files\"\"\"\n",
    "    \n",
    "    print(\"==== retrieve vectors ====\")    \n",
    "    safe_prompt = make_safe_filename(prompts[0])\n",
    "    noise_filenames = [fname.replace(\"class\", \"noise\") for fname in class_filenames]\n",
    "\n",
    "    #print(class_filenames)\n",
    "    #print(noise_filenames)\n",
    "\n",
    "    class_inputs = [np.loadtxt(filename) for filename in class_filenames]\n",
    "    noise_inputs = [np.loadtxt(filename) for filename in noise_filenames]\n",
    "\n",
    "    # file outputs names and paths\n",
    "    moviefilename = safe_prompt+'_{0}.mp4'.format(fps)\n",
    "    srtfilename = safe_prompt+'_{0}.srt'.format(fps)\n",
    "    interppath = os.path.join(interpbase, safe_prompt)\n",
    "\n",
    "    !mkdir -p $interppath\n",
    "    \n",
    "    print(\"==== generate interpolations ====\")\n",
    "\n",
    "    count = 0\n",
    "\n",
    "    for i in range(len(class_inputs)):\n",
    "\n",
    "        # generate interpolations\n",
    "        noises = interpolate_points(noise_inputs[i], noise_inputs[(i+1)%len(class_inputs)], num_steps)\n",
    "        classes = interpolate_points(class_inputs[i], class_inputs[(i+1)%len(class_inputs)], num_steps)\n",
    "\n",
    "        # generate images in batches\n",
    "#         batch_size = 10\n",
    "        batch_size = 40 #RTX8000\n",
    "    \n",
    "        for j in range(0, num_steps, batch_size):\n",
    "            clear_output()\n",
    "            print(i, j, count)\n",
    "            noise_vector = noises[j:j+batch_size]\n",
    "            class_vector = classes[j:j+batch_size]\n",
    "\n",
    "            # convert to tensors\n",
    "            noise_vector = torch.tensor(noise_vector, dtype=torch.float32)\n",
    "            class_vector = torch.tensor(class_vector, dtype=torch.float32)\n",
    "\n",
    "            # put everything on cuda (GPU)\n",
    "            noise_vector = noise_vector.to('cuda')\n",
    "            noise_vector = noise_vector.clamp(-2*truncation, 2*truncation)\n",
    "            class_vector = class_vector.to('cuda')\n",
    "            class_vector = class_vector.softmax(dim=-1)\n",
    "            model.to('cuda')\n",
    "\n",
    "            # generate images\n",
    "            with torch.no_grad():\n",
    "                output = model(noise_vector, class_vector, truncation)\n",
    "\n",
    "            # If you have a GPU put back on CPU\n",
    "            output = output.to('cpu')\n",
    "\n",
    "            imgs = convert_to_images(output)\n",
    "\n",
    "            # repeat first image for len_hold\n",
    "            if j == 0:\n",
    "                for k in range(len_hold):\n",
    "                    imgs[0].save(interppath+\"/output_%05d.png\" % count)\n",
    "                    count = count + 1\n",
    "\n",
    "            for img in imgs: \n",
    "                img.save(interppath+\"/output_%05d.png\" % count)\n",
    "                count = count + 1\n",
    "    \n",
    "    \n",
    "    print(\"==== generating movie ====\")\n",
    "    \n",
    "    # generate mp4\n",
    "    outpath = os.path.join(videopath, moviefilename)\n",
    "    with open('list.txt','w') as f:\n",
    "      for i in range(count):\n",
    "        f.write('file %s/output_%05d.png\\n'%(interppath, i))\n",
    "    cmd = \"ffmpeg -r {0} -i {1}/output_%05d.png -c:v libx265 -pix_fmt yuv420p -crf 0 -r {0} {2} -y\"\n",
    "    \n",
    "    print(\"video creation cmd:\\n\", cmd.format(fps, interppath, outpath))\n",
    "#     os.system(cmd.format(fps, interppath, outpath))\n",
    "    \n",
    "    print(\"==== generating subtitles ==== \")\n",
    "    srtoutpath = os.path.join(videopath, srtfilename)\n",
    "    with open(srtoutpath,'w') as f:\n",
    "\n",
    "        frames = 0\n",
    "        for i in range(len(class_inputs)):\n",
    "            f.write(str(i+1)+\"\\n\")\n",
    "            f.write(frames_to_TC(frames)+\" --> \")\n",
    "            frames+=len_hold\n",
    "            f.write(frames_to_TC(frames)+\"\\n\")\n",
    "            f.write(prompts[i]+\"\\n\\n\")\n",
    "            frames+=num_steps\n",
    "    print(frames)"
   ]
  },
  {
   "cell_type": "code",
   "execution_count": 71,
   "metadata": {},
   "outputs": [
    {
     "name": "stdout",
     "output_type": "stream",
     "text": [
      "1 80 230\n",
      "==== generating movie ====\n",
      "video creation cmd:\n",
      " ffmpeg -r 30 -i /home/twomeylab/rtwomey/cohab-ml-imagination/interpolation/a_drawing_of_an_elegant_machine/output_%05d.png -c:v libx265 -pix_fmt yuv420p -crf 0 -r 30 /home/twomeylab/rtwomey/cohab-ml-imagination/videos/a_drawing_of_an_elegant_machine_30.mp4 -y\n",
      "==== generating subtitles ==== \n",
      "240\n",
      "time: 31.4 s (started: 2021-12-21 15:18:43 -06:00)\n"
     ]
    }
   ],
   "source": [
    "prompts = [\n",
    "    \"a drawing of an elegant machine\",\n",
    "    \"a machine that learns to make images\"\n",
    "]\n",
    "\n",
    "latentfiles = [\n",
    "    \"a_drawing_of_an_elegant_machine_class.txt\",\n",
    "    \"a_machine_that_learns_to_make_images_class.txt\"\n",
    "]\n",
    "\n",
    "class_filenames = [resultspath+latent for latent in latentfiles]\n",
    "    \n",
    "generate_video_transition(class_filenames, prompts, interpbase)"
   ]
  },
  {
   "cell_type": "code",
   "execution_count": null,
   "metadata": {},
   "outputs": [],
   "source": [
    "# # move to datestamped path\n",
    "# import os, datetime\n",
    "# newdir = outpath[:-1]+\"_\"+datetime.datetime.now().strftime('%Y%m%d_%H%M%S')\n",
    "# !mv $outpath $newdir\n",
    "# !mkdir -p $outpath"
   ]
  },
  {
   "cell_type": "code",
   "execution_count": null,
   "metadata": {},
   "outputs": [],
   "source": [
    "# from IPython.display import display, FileLink, FileLinks\n",
    "\n",
    "# local_file = FileLink(out.replace('\"', \"\"), result_html_prefix=\"Click here to download: \")\n",
    "# # local_file = FileLinks(\".\", result_html_suffix=\"?download\")\n",
    "# display(local_file)"
   ]
  },
  {
   "cell_type": "code",
   "execution_count": null,
   "metadata": {},
   "outputs": [],
   "source": [
    "# from IPython.display import HTML\n",
    "# local_file = out.replace('\"', \"\")\n",
    "# HTML(\"<a href=\\\"\"+local_file+\"\\\">download %s</a>\"%local_file)"
   ]
  },
  {
   "cell_type": "markdown",
   "metadata": {},
   "source": [
    "## 3. Generate Video Interpolating Between Multiple VHolding on Single Phrase"
   ]
  },
  {
   "cell_type": "markdown",
   "metadata": {},
   "source": [
    "Helper for generating time codes for subtitles:"
   ]
  },
  {
   "cell_type": "code",
   "execution_count": 72,
   "metadata": {},
   "outputs": [
    {
     "name": "stdout",
     "output_type": "stream",
     "text": [
      "time: 511 µs (started: 2021-12-21 15:29:11 -06:00)\n"
     ]
    }
   ],
   "source": [
    "def frames_to_TC (frames):\n",
    "    h = int(frames / 86400) \n",
    "    m = int(frames / (60*fps)) % 60 \n",
    "    s = int((frames % (60*fps))/fps) \n",
    "    f = float(frames % (60*fps) % fps)/float(fps)\n",
    "    return ( \"%02d:%02d:%02d,%04d\" % ( h, m, s, f))"
   ]
  },
  {
   "cell_type": "code",
   "execution_count": 73,
   "metadata": {},
   "outputs": [
    {
     "name": "stdout",
     "output_type": "stream",
     "text": [
      "time: 341 µs (started: 2021-12-21 15:29:12 -06:00)\n"
     ]
    }
   ],
   "source": [
    "def make_safe_filename(s):\n",
    "    def safe_char(c):\n",
    "        if c.isalnum():\n",
    "            return c\n",
    "        else:\n",
    "            return \"_\"\n",
    "    return \"\".join(safe_char(c) for c in s).rstrip(\"_\")"
   ]
  },
  {
   "cell_type": "code",
   "execution_count": null,
   "metadata": {},
   "outputs": [],
   "source": [
    "def generate_video_hold(output_folder, class_filenames, result_filename, prompt, interpbase, filebase):\n",
    "    \"\"\"includes the result with the class_files\"\"\"\n",
    "    \n",
    "    print(\"==== retrieve vectors ====\")\n",
    "    \n",
    "    safe_prompt = make_safe_filename(prompt)\n",
    "\n",
    "    prompts = [ prompt*(len(class_filenames)+1)]\n",
    "\n",
    "    class_filenames = [output_folder+file for file in class_filenames]\n",
    "    class_filenames += [result_filename.format(safe_prompt)]\n",
    "\n",
    "    noise_filenames = [fname.replace(\"class\", \"noise\") for fname in class_filenames]\n",
    "\n",
    "    print(class_filenames)\n",
    "    print(noise_filenames)\n",
    "\n",
    "    class_inputs = [np.loadtxt(filename) for filename in class_filenames]\n",
    "    noise_inputs = [np.loadtxt(filename) for filename in noise_filenames]\n",
    "\n",
    "\n",
    "    interpbase = interpbase.format(safe_prompt)\n",
    "    filebase = filebase.format(safe_prompt)\n",
    "    moviefilename = filebase+'.mp4'\n",
    "    srtfilename = filebase+'.srt'\n",
    "\n",
    "    !mkdir -p $interpbase\n",
    "    \n",
    "    print(\"==== generate interpolations ====\")\n",
    "\n",
    "    count = 0\n",
    "    \n",
    "    num_inputs = len(class_inputs)\n",
    "    for i in range(len(class_inputs)):\n",
    "\n",
    "        # generate interpolations\n",
    "        noises = interpolate_points(noise_inputs[i], noise_inputs[(i+1)%len(class_inputs)], num_steps)\n",
    "        classes = interpolate_points(class_inputs[i], class_inputs[(i+1)%len(class_inputs)], num_steps)\n",
    "\n",
    "        # generate images in batches\n",
    "#         batch_size = 10 #2080\n",
    "        batch_size = 60 #RTX8000\n",
    "        for j in range(0, num_steps, batch_size):\n",
    "            clear_output()\n",
    "            print(\"{0}/{1} clases\\t{2}/{3} steps\\t{4} frames\".format(i, num_inputs, j, num_steps, count))\n",
    "            noise_vector = noises[j:j+batch_size]\n",
    "            class_vector = classes[j:j+batch_size]\n",
    "\n",
    "            # convert to tensors\n",
    "            noise_vector = torch.tensor(noise_vector, dtype=torch.float32)\n",
    "            class_vector = torch.tensor(class_vector, dtype=torch.float32)\n",
    "\n",
    "            # put everything on cuda (GPU)\n",
    "            noise_vector = noise_vector.to('cuda')\n",
    "            noise_vector = noise_vector.clamp(-2*truncation, 2*truncation)\n",
    "            class_vector = class_vector.to('cuda')\n",
    "            class_vector = class_vector.softmax(dim=-1)\n",
    "            model.to('cuda')\n",
    "\n",
    "            # generate images\n",
    "            with torch.no_grad():\n",
    "                output = model(noise_vector, class_vector, truncation)\n",
    "\n",
    "            # If you have a GPU put back on CPU\n",
    "            output = output.to('cpu')\n",
    "\n",
    "            imgs = convert_to_images(output)\n",
    "\n",
    "            # repeat first image\n",
    "\n",
    "            if j == 0:\n",
    "                for k in range(len_hold):\n",
    "                    imgs[0].save(interpbase+\"/output_%05d.png\" % count)\n",
    "                    count = count + 1\n",
    "\n",
    "            for img in imgs: \n",
    "                img.save(interpbase+\"/output_%05d.png\" % count)\n",
    "                count = count + 1\n",
    "    \n",
    "    \n",
    "    print(\"==== generating movie ====\")\n",
    "    \n",
    "    # generate mp4\n",
    "    out = moviefilename%fps\n",
    "    with open('list.txt','w') as f:\n",
    "      for i in range(count):\n",
    "        f.write('file %s/output_%05d.png\\n'%(interpbase, i))\n",
    "    cmd = \"ffmpeg -r {0} -i {1}/output_%05d.png -c:v libx265 -pix_fmt yuv420p -crf 0 -r {0} {2} -y\"\n",
    "\n",
    "    os.system(cmd.format(fps, interpbase, out))\n",
    "    print(cmd.format(fps, interpbase, out))\n",
    "    \n",
    "    print(\"==== generating subtitles ==== \")\n",
    "    \n",
    "    with open(srtfilename%fps,'w') as f:\n",
    "\n",
    "        frames = 0\n",
    "        for i in range(len(class_inputs)):\n",
    "            f.write(str(i+1)+\"\\n\")\n",
    "            f.write(frames_to_TC(frames)+\" --> \")\n",
    "            frames+=len_hold\n",
    "            f.write(frames_to_TC(frames)+\"\\n\")\n",
    "            f.write(prompt+\"\\n\\n\")\n",
    "            frames+=num_steps\n",
    "    print(\"subtitles: \"+srtfilename%fps)\n",
    "    print(frames)"
   ]
  },
  {
   "cell_type": "code",
   "execution_count": null,
   "metadata": {},
   "outputs": [],
   "source": [
    "# resultsbase = \"/home/jovyan/work/results/results_pom_seed_128/\"\n",
    "\n",
    "# # video and srt output files\n",
    "# filebase = 'pom_128_%s'\n",
    "# # filebase = 'pom_10_%s'\n",
    "# moviefilename = filebase+'.mp4'\n",
    "# srtfilename = filebase+'.srt'\n",
    "\n",
    "# prompts = [\n",
    "# #     \"the sublime experience of an iceberg\",\n",
    "# #     \"ice is a vastness of possibilities\",\n",
    "# #     \"a vastness of spatial dimensions\",\n",
    "# #     \"a space of unlimited possibilities that the network must explore\",\n",
    "# #     \"a network\",\n",
    "# #     \"a network of vast spatial dimensions\",\n",
    "# #     \"eighteenth century painting of humans encountering nature\",\n",
    "# #     \"a person encountering nature\",\n",
    "# #     \"an elegant machine that learns to generate artificial images\",\n",
    "# #     \"a drawing of an elegant machine\",\n",
    "# #     \"a machine that learns to make images\",\n",
    "#     \"a drawing of a machine that learns to make images\",\n",
    "# ]\n",
    "\n",
    "# for prompt in prompts:\n",
    "    \n",
    "#     # prompt = \"a silicon mold of a friends hands\"\n",
    "\n",
    "#     safe_prompt = make_safe_filename(prompt)\n",
    "\n",
    "#     class_filenames = [ \n",
    "#         \"class_00009.txt\", \n",
    "#     #     \"class_00008.txt\", \n",
    "#         \"class_00007.txt\"\n",
    "#     ]\n",
    "\n",
    "#     result_filename = resultsbase+\"{0}_class.txt\"\n",
    "\n",
    "#     # stored output from synthesis\n",
    "#     # safe_filename = make_safe_filename(prompt)\n",
    "\n",
    "#     stored_output_folder = \"/home/jovyan/work/process/stored_outputs_pom_seed_128/\"+safe_prompt+\"/\"\n",
    "\n",
    "#     # stored_output_folder = \"/home/jovyan/work/process/stored_outputs_pom_seed_128/\"+\\\n",
    "#     #     \"a_mushrooms_above_ground_growth_is_the_result_of_a_set_of_instructions_20210914_214118/\"\n",
    "\n",
    "#     interpbase = '/home/jovyan/work/interpolation/pom_interp_128_hold_{0}'\n",
    "#     filebase = '/home/jovyan/work/interpolation/pom_128_%s_hold_{0}'\n",
    "\n",
    "#     generate_video_hold(stored_output_folder, class_filenames, result_filename, prompt, interpbase, filebase)\n",
    "#     print('scp \"user@z8.local:/home/user/work/interpolation/pom_128_30_hold_{0}*\" .'.format(safe_prompt))"
   ]
  },
  {
   "cell_type": "markdown",
   "metadata": {},
   "source": [
    "Workaround to download files"
   ]
  },
  {
   "cell_type": "code",
   "execution_count": null,
   "metadata": {},
   "outputs": [],
   "source": [
    "# prompts = [\n",
    "#     \"the sublime experience of an iceberg\",\n",
    "#     \"ice is a vastness of possibilities\",\n",
    "#     \"a vastness of spatial dimensions\",\n",
    "#     \"a space of unlimited possibilities that the network must explore\",\n",
    "#     \"a network\",\n",
    "#     \"a network of vast spatial dimensions\"\n",
    "#     \"eighteenth century painting of humans encountering nature\",\n",
    "#     \"a person encountering nature\",\n",
    "#     \"an elegant machine that learns to generate artificial images\",\n",
    "#     \"a drawing of an elegant machine\",\n",
    "#     \"a machine that learns to make images\",\n",
    "#     \"a drawing of a machine that learns to make images\",\n",
    "# ]\n",
    "# for prompt in prompts:\n",
    "    \n",
    "#     # prompt = \"a silicon mold of a friends hands\"\n",
    "\n",
    "#     safe_prompt = make_safe_filename(prompt)\n",
    "#     print('scp \"user@z8.local:/home/user/work/interpolation/pom_128_30_hold_{0}*\" .'.format(safe_prompt))"
   ]
  },
  {
   "cell_type": "markdown",
   "metadata": {},
   "source": [
    "# Notes"
   ]
  },
  {
   "cell_type": "markdown",
   "metadata": {},
   "source": [
    "\n",
    "Based on SIREN+CLIP Colabs by: [@advadnoun](https://twitter.com/advadnoun), [@norod78](https://twitter.com/norod78)\n",
    "\n",
    "Other CLIP notebooks: [OpenAI tutorial](https://colab.research.google.com/github/openai/clip/blob/master/Interacting_with_CLIP.ipynb), [SIREN by @advadnoun](https://colab.research.google.com/drive/1FoHdqoqKntliaQKnMoNs3yn5EALqWtvP), [SIREN by @norod78](https://colab.research.google.com/drive/1K1vfpTEvAmxW2rnhAaALRVyis8EiLOnD), [BigGAN by @advadnoun](https://colab.research.google.com/drive/1NCceX2mbiKOSlAd_o7IU7nA9UskKN5WR), [BigGAN by @eyaler](j.mp/bigclip), [BigGAN by @tg_bomze](https://colab.research.google.com/github/tg-bomze/collection-of-notebooks/blob/master/Text2Image_v2.ipynb), [BigGAN using big-sleep library by @lucidrains](https://colab.research.google.com/drive/1MEWKbm-driRNF8PrU7ogS5o3se-ePyPb), [BigGAN story hallucinator by @bonkerfield](https://colab.research.google.com/drive/1jF8pyZ7uaNYbk9ZiVdxTOajkp8kbmkLK), [StyleGAN2-ADA Anime by @nagolinc](https://colab.research.google.com/github/nagolinc/notebooks/blob/main/TADNE_and_CLIP.ipynb) [v2](https://colab.research.google.com/github/nagolinc/notebooks/blob/main/CLIP_%2B_TADNE_(pytorch)_v2.ipynb)\n",
    "\n",
    "Using the works:\n",
    "\n",
    "https://github.com/openai/CLIP\n",
    "\n",
    "https://tfhub.dev/deepmind/biggan-deep-512\n",
    "\n",
    "https://github.com/huggingface/pytorch-pretrained-BigGAN\n",
    "\n",
    "http://www.aiartonline.com/design-2019/eyal-gruss (WanderGAN)\n",
    "\n",
    "For a curated list of more online generative tools see: [j.mp/generativetools](https://j.mp/generativetools)\n"
   ]
  },
  {
   "cell_type": "markdown",
   "metadata": {},
   "source": [
    "# Leftovers"
   ]
  },
  {
   "cell_type": "markdown",
   "metadata": {},
   "source": [
    "Ex2. Interpolating between two vectors:"
   ]
  },
  {
   "cell_type": "code",
   "execution_count": null,
   "metadata": {},
   "outputs": [],
   "source": [
    "# np.random.RandomState(1)\n",
    "# np.random.seed(1)\n",
    "# torch.manual_seed(1)\n",
    "\n",
    "# num_steps = 500\n",
    "\n",
    "# # Prepare a input\n",
    "# truncation = 1.0\n",
    "# workbase = '/home/jovyan/'\n",
    "\n",
    "# # sculptures: \n",
    "\n",
    "\n",
    "# # work/visual-imagination/CLIP/class_sculpture television buddha.txt\n",
    "# # work/visual-imagination/CLIP/class_a buddha sculpture with television in the grass.txt\n",
    "# # work/visual-imagination/CLIP/class_television buddha sculpture with grass.txt\n",
    "# # work/visual-imagination/CLIP/class_old television in grass with buddha sculpture by pacific ocean.txt\n",
    "# # work/visual-imagination/CLIP/class_old television in long grass with buddha sculpture by pacific ocean.txt\n",
    "\n",
    "\n",
    "# noise1 = np.loadtxt(workbase+'work/output_20210222_195143/noise_00002.txt')\n",
    "# class1 = np.loadtxt(workbase+'work/output_20210222_195143/class_00002.txt')\n",
    "\n",
    "# noise2 = np.loadtxt(workbase+'work/output_20210222_195143/noise_00008.txt')\n",
    "# class2 = np.loadtxt(workbase+'work/output_20210222_195143/class_00008.txt')\n",
    "\n",
    "# # noise_vector = np.loadtxt(workbase+'work/visual-imagination/CLIP/noise_a room with good lighting.txt')\n",
    "# # class_vector = np.loadtxt(workbase+'work/visual-imagination/CLIP/class_a room with good lighting.txt')\n",
    "\n",
    "# # interpolate\n",
    "# noises = interpolate_points(noise1, noise2, num_steps)\n",
    "# classes = interpolate_points(class1, class2, num_steps)\n",
    "\n",
    "# # expand dims (only necessary for single vector)\n",
    "\n",
    "# for i in range(num_steps):\n",
    "    \n",
    "#     # expand dims\n",
    "#     noise_vector = np.expand_dims(noises[i], axis=0)\n",
    "#     class_vector = np.expand_dims(classes[i], axis=0)\n",
    "\n",
    "#     # convert to tensors\n",
    "#     noise_vector = torch.tensor(noise_vector, dtype=torch.float32)\n",
    "#     class_vector = torch.tensor(class_vector, dtype=torch.float32)\n",
    "\n",
    "#     print(noise_vector.shape, noise_vector.dtype, class_vector.shape, class_vector.dtype)\n",
    "\n",
    "#     # If you have a GPU, put everything on cuda\n",
    "#     noise_vector = noise_vector.to('cuda')\n",
    "#     noise_vector = noise_vector.clamp(-2*truncation, 2*truncation)\n",
    "#     class_vector = class_vector.to('cuda')\n",
    "#     class_vector = class_vector.softmax(dim=-1)\n",
    "#     model.to('cuda')\n",
    "\n",
    "#     # Generate an image\n",
    "#     with torch.no_grad():\n",
    "#         output = model(noise_vector, class_vector, truncation)\n",
    "\n",
    "#     # If you have a GPU put back on CPU\n",
    "#     output = output.to('cpu')\n",
    "\n",
    "#     # # If you have a sixtel compatible terminal you can display the images in the terminal\n",
    "#     # # (see https://github.com/saitoha/libsixel for details)\n",
    "#     # # display_in_terminal(output)\n",
    "#     save_as_images(output, workbase+\"work/output_%05d\" % i)\n",
    "# #     clear_output()\n",
    "# #     display(JupImage(\"output_%05d_0.png\" % i))\n",
    "#     i+=1"
   ]
  },
  {
   "cell_type": "markdown",
   "metadata": {},
   "source": [
    "Ex.1: Generate from a single stored noise/class vector"
   ]
  },
  {
   "cell_type": "code",
   "execution_count": null,
   "metadata": {},
   "outputs": [],
   "source": [
    "# # random seeding\n",
    "# np.random.RandomState(1)\n",
    "# np.random.seed(1)\n",
    "# torch.manual_seed(1)\n",
    "\n",
    "\n",
    "# # Prepare a input\n",
    "# truncation = 1.0\n",
    "# workbase = '/home/jovyan/'\n",
    "# noise_vector = np.loadtxt(workbase+'work/results/That_never_left_any_alive_who_stayed_in_it._noise.txt')\n",
    "# class_vector = np.loadtxt(workbase+'work/results/That_never_left_any_alive_who_stayed_in_it._class.txt')\n",
    "\n",
    "# # noise_vector = np.loadtxt(workbase+'work/visual-imagination/CLIP/noise_a room with good lighting.txt')\n",
    "# # class_vector = np.loadtxt(workbase+'work/visual-imagination/CLIP/class_a room with good lighting.txt')\n",
    "\n",
    "# # noise_vector = noise_vectors\n",
    "# # class_vector = class_vectors\n",
    "\n",
    "# # expand dims\n",
    "# noise_vector = np.expand_dims(noise_vector, axis=0)\n",
    "# class_vector = np.expand_dims(class_vector, axis=0)\n",
    "\n",
    "# # All in tensors\n",
    "# noise_vector = torch.tensor(noise_vector, dtype=torch.float32)\n",
    "# class_vector = torch.tensor(class_vector, dtype=torch.float32)\n",
    "\n",
    "# print(noise_vector.shape, noise_vector.dtype, class_vector.shape, class_vector.dtype)\n",
    "\n",
    "# # If you have a GPU, put everything on cuda\n",
    "# noise_vector = noise_vector.to('cuda')\n",
    "# noise_vector = noise_vector.clamp(-2*truncation, 2*truncation)\n",
    "# class_vector = class_vector.to('cuda')\n",
    "# class_vector = class_vector.softmax(dim=-1)\n",
    "# model.to('cuda')\n",
    "\n",
    "# # Generate an image\n",
    "# with torch.no_grad():\n",
    "#     output = model(noise_vector, class_vector, truncation)\n",
    "\n",
    "# # If you have a GPU put back on CPU\n",
    "# output = output.to('cpu')\n",
    "\n",
    "# # # If you have a sixtel compatible terminal you can display the images in the terminal\n",
    "# # # (see https://github.com/saitoha/libsixel for details)\n",
    "# # # display_in_terminal(output)\n",
    "# # save_as_images(output, \"output_%s\" % index)\n",
    "\n",
    "# # display(Image(\"output_0.png\"))\n",
    "\n",
    "# # # Save results as png images\n",
    "# save_as_images(output)"
   ]
  },
  {
   "cell_type": "code",
   "execution_count": null,
   "metadata": {},
   "outputs": [],
   "source": []
  },
  {
   "cell_type": "code",
   "execution_count": null,
   "metadata": {},
   "outputs": [],
   "source": []
  },
  {
   "cell_type": "markdown",
   "metadata": {},
   "source": [
    "# Other Prompts"
   ]
  },
  {
   "cell_type": "code",
   "execution_count": null,
   "metadata": {},
   "outputs": [],
   "source": [
    "# sculptures: \n",
    "\n",
    "# class_filenames = [\n",
    "# \"work/visual-imagination/CLIP/class_sculpture television buddha.txt\",\n",
    "# \"work/visual-imagination/CLIP/class_a buddha sculpture with television in the grass.txt\",\n",
    "# \"work/visual-imagination/CLIP/class_television buddha sculpture with grass.txt\",\n",
    "# \"work/visual-imagination/CLIP/class_old television in grass with buddha sculpture by pacific ocean.txt\",\n",
    "# \"work/visual-imagination/CLIP/class_old television in long grass with buddha sculpture by pacific ocean.txt\"\n",
    "# ]\n",
    "\n",
    "# noise_filenames = [\n",
    "# \"work/visual-imagination/CLIP/noise_sculpture television buddha.txt\",\n",
    "# \"work/visual-imagination/CLIP/noise_a buddha sculpture with television in the grass.txt\",\n",
    "# \"work/visual-imagination/CLIP/noise_television buddha sculpture with grass.txt\",\n",
    "# \"work/visual-imagination/CLIP/noise_old television in grass with buddha sculpture by pacific ocean.txt\",\n",
    "# \"work/visual-imagination/CLIP/noise_old television in long grass with buddha sculpture by pacific ocean.txt\"\n",
    "# ]\n",
    "\n",
    "# prompts = [\n",
    "#     'a photo of wild tarragon',\n",
    "#     'a drawing of wild tarragon, a tasteless planhttps://lilianweng.github.io/lil-log/2018/02/19/a-long-peek-into-reinforcement-learning.htmlt',\n",
    "#     'a painting of farm hands, a kind of laborer',\n",
    "#     'a painting of a farmer’s hands',\n",
    "#     'a self-portrait of Artemisia Gentileschi, artist',\n",
    "#     'artemisia Gentileschi is a dragon',\n",
    "#     'a painting of Artemisia Gentileschi as a dragon',\n",
    "#     'a photo of the dragon Artemisia Gentileschi',\n",
    "#     'a portrait of artist as dragon',\n",
    "#     'a drawing of a dragon',\n",
    "#     'a painting of uprooted rhizome as a dragon',\n",
    "#     'a sketch of a rhizome, uprooted',\n",
    "#     'an image of a plant rising',\n",
    "#     'a drawing of plant roots and mycorrhizal fungi',\n",
    "#     'an image of growing wiser',\n",
    "#     'a painting of wise plants',\n",
    "#     'a drawing of plant wisdom',\n",
    "#     'a photo of a plant hiding',\n",
    "#     'a drawing of hiding from elders',\n",
    "#     'a painting of Susanna and the Elders',\n",
    "#     'an image of creeps',\n",
    "#     'a painting of gazing creeps',\n",
    "#     'a painting of groping creeps',\n",
    "#     'a painting of invasive elders',\n",
    "#     'a photo of perverse hope',\n",
    "#     'a painting of your hatred',\n",
    "#     'a drawing of killing a mosquito',\n",
    "#     'a painting of a mosquito, a kind of corpse',\n",
    "#     'a drawing of malaria',\n",
    "#     'a sketch of salted fields',\n",
    "#     'a photo of dancers',\n",
    "#     'a painting of dancers in a field',\n",
    "#     'an image of your spit',\n",
    "#     'a photo of standing too close',\n",
    "#     'a painting of someone standing too close',\n",
    "#     'a drawing of an oak sapling',\n",
    "#     'a painting of an oak in an empty field',\n",
    "#     'a photo of growing',\n",
    "#     'an image of growing wilder',\n",
    "#     'a painting of growing stronger',\n",
    "#     'a photo of a hand holding high',\n",
    "#     'a painting of a hand holding the head of Holofernes',\n",
    "#     'a painting of the head of Holofernes',\n",
    "#     'a drawing of a head, blood-rooted',\n",
    "#     'an image of a bloody root',\n",
    "#     'a painting of autumn gold',\n",
    "#     'a photo of a golden gown',\n",
    "#     'an image of a mouth tasting',\n",
    "#     'a sketch of a mouth',\n",
    "#     'a drawing of taste',\n",
    "#     'a painting of the taste of nothing',\n",
    "#     'a photograph of being invisible',\n",
    "#     'a drawing of your renown',\n",
    "#     'a painting of a renowned artist',\n",
    "#     'a portrait of the artist',\n",
    "#     'a self-portrait of Artemisia Gentileschi as tarragon'\n",
    "# ]\n",
    "\n",
    "# prompts = [\n",
    "#     'a picture of the interior of a bedroom',\n",
    "#     'a drawing of the interior of a bedroom', \n",
    "#     'a photo of the interior of a bedroom', \n",
    "#     'a photo of a bathroom',\n",
    "#     'a photo of a kitchen', \n",
    "#     'a photo of a front door'\n",
    "# ]\n",
    "\n",
    "# prompts = [\n",
    "#     'a photo of a front door',\n",
    "#     'a picture of the mud room',\n",
    "#     'a photo of the kitchen', \n",
    "#     'a photo of the livingroom with television', \n",
    "#     'a photo of a couch and a television', \n",
    "#     'a photo of a family on a couch', \n",
    "#     'a picture a kitchen', \n",
    "#     'a photo of food on the kitchen counter',\n",
    "#     'a photo of a pie in the oven',\n",
    "#     'a photo of a bathroom',\n",
    "#     'a photo of the interior of a bathroom',\n",
    "#     'a photo of a person in a shower', \n",
    "#     'a photo of person brushing their teeth',\n",
    "#     'a picture of the interior of a bedroom',\n",
    "#     'a picture of a person sleeping in a bed', \n",
    "#     'a photo of a sunrise through a window'\n",
    "# ]\n",
    "\n",
    "# prompts = [\n",
    "#     \"sunrise through a window\",\n",
    "#     \"a cat in the refrigerator\"\n",
    "# ]\n",
    "\n",
    "# prompts = [\n",
    "#     \"over my head, I see the bronze butterfly\",\n",
    "#     \"asleep on the black trunk\",\n",
    "#     \"blowing like a leaf in green shadow\",   \n",
    "#     \"down the ravine behind the empty house\",   \n",
    "#     \"the cowbells follow one another\",   \n",
    "#     \"into the distances of the afternoon\",   \n",
    "#     \"to my right\",\n",
    "#     \"in a field of sunlight between two pines\",   \n",
    "#     \"the droppings of last year’s horses\",   \n",
    "#     \"blaze up into golden stones\",\n",
    "#     \"I lean back, as the evening darkens and comes on\",\n",
    "#     \"a chicken hawk floats over, looking for home\",\n",
    "#     \"I have wasted my life\"\n",
    "# ]\n",
    "\n",
    "# prompts = [\n",
    "#     \"Midway on our lifes journey, I found myself\",\n",
    "#     \"In dark woods, the right road lost\",\n",
    "#     \"To tell About those woods is hard - so tangled and rough\",\n",
    "#     \"And savage that thinking of it now, I feel\",\n",
    "#     \"The old fear stirring: death is hardly more bitter.\",\n",
    "#     \"And yet, to treat the good I found there as well\",\n",
    "#     \"I'll tell what I saw, though how I came to enter\",\n",
    "#     \"I cannot well say, being so full of sleep\",\n",
    "#     \"Whatever moment it was I began to blunder\",\n",
    "#     \"Off the true path. But when I came to stop\",\n",
    "#     \"Below a hill that marked one end of the valley\",\n",
    "#     \"That had pierced my heart with terror, I looked up\",\n",
    "#     \"Toward the crest and saw its shoulders already\",\n",
    "#     \"Mantled in rays of that bright planet that shows\",\n",
    "#     \"The road to everyone, whatever our journey.\",\n",
    "#     \"Then I could feel the terror begin to ease\",\n",
    "#     \"That churned in my heart's lake all through the night.\",\n",
    "#     \"As one still panting, ashore from dangerous seas\",\n",
    "#     \"Looks back at the deep he has escaped, my thought\",\n",
    "#     \"Returned, still fleeing, to regard that grim defile\", \n",
    "#     \"That never left any alive who stayed in it.\"\n",
    "# ]\n"
   ]
  }
 ],
 "metadata": {
  "accelerator": "GPU",
  "colab": {
   "collapsed_sections": [],
   "machine_shape": "hm",
   "name": "WanderCLIP.ipynb",
   "private_outputs": true,
   "provenance": []
  },
  "kernelspec": {
   "display_name": "TensorFlow GPU 2.6 (py39)",
   "language": "python",
   "name": "tensorflow-gpu-2.6-py39"
  },
  "language_info": {
   "codemirror_mode": {
    "name": "ipython",
    "version": 3
   },
   "file_extension": ".py",
   "mimetype": "text/x-python",
   "name": "python",
   "nbconvert_exporter": "python",
   "pygments_lexer": "ipython3",
   "version": "3.9.7"
  }
 },
 "nbformat": 4,
 "nbformat_minor": 4
}

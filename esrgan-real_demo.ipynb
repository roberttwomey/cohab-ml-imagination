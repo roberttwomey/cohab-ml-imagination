{
 "cells": [
  {
   "cell_type": "markdown",
   "id": "b020874a-cd5c-460b-ba1a-69706d10f9ba",
   "metadata": {},
   "source": [
    "Real-ESRGAN Inference Demo\n",
    "\n",
    "Select kernel `torch-gpu-esrgan`."
   ]
  },
  {
   "cell_type": "code",
   "execution_count": null,
   "id": "0dcb12f9-6c82-4b4e-ba01-71e9f75b9932",
   "metadata": {},
   "outputs": [],
   "source": [
    "# # Clone Real-ESRGAN and enter the Real-ESRGAN\n",
    "# !git clone https://github.com/xinntao/Real-ESRGAN.git\n",
    "# %cd Real-ESRGAN\n",
    "# # Set up the environment\n",
    "# !pip install basicsr\n",
    "# !pip install facexlib\n",
    "# !pip install gfpgan\n",
    "# !pip install -r requirements.txt\n",
    "# !python setup.py develop\n",
    "# # Download the pre-trained model\n",
    "# !wget https://github.com/xinntao/Real-ESRGAN/releases/download/v0.1.0/RealESRGAN_x4plus.pth -P experiments/pretrained_models"
   ]
  },
  {
   "cell_type": "markdown",
   "id": "3139afc4-59da-47ea-9986-491028ee764e",
   "metadata": {},
   "source": [
    "# 2. Upload images to be processed\n",
    "do this by hand, put your frames in \"upload\""
   ]
  },
  {
   "cell_type": "code",
   "execution_count": null,
   "id": "daf77eb2-ea9a-4ce8-8a69-e10631d89307",
   "metadata": {},
   "outputs": [],
   "source": []
  },
  {
   "cell_type": "markdown",
   "id": "e9e06aa8-37d0-4002-a7dc-af5e3d938718",
   "metadata": {},
   "source": [
    "# 3. Inference\n"
   ]
  },
  {
   "cell_type": "code",
   "execution_count": 2,
   "id": "603c0bb3-e24d-4976-add0-f2be5c68b447",
   "metadata": {},
   "outputs": [
    {
     "name": "stdout",
     "output_type": "stream",
     "text": [
      "/home/twomeylab/rtwomey/cohab-ml-imagination/Real-ESRGAN\n"
     ]
    }
   ],
   "source": [
    "%cd Real-ESRGAN"
   ]
  },
  {
   "cell_type": "code",
   "execution_count": 3,
   "id": "a4b89f48-1ab1-4044-906c-4e7e5bfd8d84",
   "metadata": {},
   "outputs": [
    {
     "name": "stdout",
     "output_type": "stream",
     "text": [
      "Traceback (most recent call last):\n",
      "  File \"inference_realesrgan.py\", line 2, in <module>\n",
      "    import cv2\n",
      "ModuleNotFoundError: No module named 'cv2'\n"
     ]
    }
   ],
   "source": [
    "# if it is out of memory, try to use the `--tile` option\n",
    "# We upsample the image with the scale factor X3.5\n",
    "!python inference_realesrgan.py -n RealESRGAN_x4plus -i upload --outscale 3.5 --half --face_enhance\n",
    "# Arguments\n",
    "# -n, --model_name: Model names\n",
    "# -i, --input: input folder or image\n",
    "# --outscale: Output scale, can be arbitrary scale factore. "
   ]
  },
  {
   "cell_type": "code",
   "execution_count": 7,
   "id": "8c136ffc-e376-4c36-ab92-a5568c1e7783",
   "metadata": {},
   "outputs": [
    {
     "name": "stdout",
     "output_type": "stream",
     "text": [
      "Downloading: \"https://github.com/xinntao/facexlib/releases/download/v0.1.0/detection_Resnet50_Final.pth\" to /home/twomeylab/rtwomey/.local/lib/python3.8/site-packages/facexlib/weights/detection_Resnet50_Final.pth\n",
      "\n",
      "100%|█████████████████████████████████████████| 104M/104M [00:00<00:00, 159MB/s]\n",
      "Downloading: \"https://github.com/TencentARC/GFPGAN/releases/download/v0.2.0/GFPGANCleanv1-NoCE-C2.pth\" to /home/twomeylab/rtwomey/.local/lib/python3.8/site-packages/gfpgan/weights/GFPGANCleanv1-NoCE-C2.pth\n",
      "\n",
      "100%|█████████████████████████████████████████| 332M/332M [00:02<00:00, 174MB/s]\n"
     ]
    }
   ],
   "source": [
    "# if it is out of memory, try to use the `--tile` option\n",
    "# We upsample the image with the scale factor X3.5\n",
    "!python inference_realesrgan.py -n RealESRGAN_x4plus -i upload --outscale 3.5 --half --face_enhance\n",
    "# Arguments\n",
    "# -n, --model_name: Model names\n",
    "# -i, --input: input folder or image\n",
    "# --outscale: Output scale, can be arbitrary scale factore. "
   ]
  },
  {
   "cell_type": "code",
   "execution_count": null,
   "id": "104a1de4-17b8-4ab0-af14-9dbedd3e789c",
   "metadata": {},
   "outputs": [],
   "source": []
  }
 ],
 "metadata": {
  "kernelspec": {
   "display_name": "Python (torch-gpu-esrgan)",
   "language": "python",
   "name": "torch-gpu-esrgan"
  },
  "language_info": {
   "codemirror_mode": {
    "name": "ipython",
    "version": 3
   },
   "file_extension": ".py",
   "mimetype": "text/x-python",
   "name": "python",
   "nbconvert_exporter": "python",
   "pygments_lexer": "ipython3",
   "version": "3.9.10"
  }
 },
 "nbformat": 4,
 "nbformat_minor": 5
}
